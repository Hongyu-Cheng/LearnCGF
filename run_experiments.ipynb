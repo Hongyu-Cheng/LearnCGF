{
 "cells": [
  {
   "cell_type": "code",
   "execution_count": 1,
   "metadata": {},
   "outputs": [],
   "source": [
    "import numpy as np\n",
    "np.random.seed(0)\n",
    "from Run import *"
   ]
  },
  {
   "cell_type": "markdown",
   "metadata": {},
   "source": [
    "## Run the experiment"
   ]
  },
  {
   "cell_type": "code",
   "execution_count": 2,
   "metadata": {},
   "outputs": [
    {
     "name": "stderr",
     "output_type": "stream",
     "text": [
      "knapsack_20_1:   0%|          | 0/121 [00:00<?, ?it/s]"
     ]
    },
    {
     "name": "stdout",
     "output_type": "stream",
     "text": [
      "Set parameter Username\n",
      "Academic license - for non-commercial use only - expires 2025-04-25\n"
     ]
    },
    {
     "name": "stderr",
     "output_type": "stream",
     "text": [
      "knapsack_20_1: 100%|██████████| 121/121 [09:30<00:00,  4.72s/it, GMI Average Treesize=167.36, Best 1 row CGF Treesize=86.20]\n"
     ]
    },
    {
     "name": "stdout",
     "output_type": "stream",
     "text": [
      "Training Completed\n",
      "Testing Started\n"
     ]
    },
    {
     "name": "stderr",
     "output_type": "stream",
     "text": [
      "100%|██████████| 100/100 [00:06<00:00, 15.21it/s]"
     ]
    },
    {
     "name": "stdout",
     "output_type": "stream",
     "text": [
      "{'test_gmi': 158.88, 'test_cgf1': 87.0}\n"
     ]
    },
    {
     "name": "stderr",
     "output_type": "stream",
     "text": [
      "\n"
     ]
    }
   ],
   "source": [
    "run('knapsack_20_1',multi_row=False)"
   ]
  },
  {
   "cell_type": "code",
   "execution_count": 3,
   "metadata": {},
   "outputs": [
    {
     "name": "stderr",
     "output_type": "stream",
     "text": [
      "knapsack_30_1: 100%|██████████| 121/121 [27:29<00:00, 13.63s/it, GMI Average Treesize=810.06, Best 1 row CGF Treesize=53.36]\n"
     ]
    },
    {
     "name": "stdout",
     "output_type": "stream",
     "text": [
      "Training Completed\n",
      "Testing Started\n"
     ]
    },
    {
     "name": "stderr",
     "output_type": "stream",
     "text": [
      "100%|██████████| 100/100 [00:18<00:00,  5.34it/s]"
     ]
    },
    {
     "name": "stdout",
     "output_type": "stream",
     "text": [
      "{'test_gmi': 832.16, 'test_cgf1': 58.84}\n"
     ]
    },
    {
     "name": "stderr",
     "output_type": "stream",
     "text": [
      "\n"
     ]
    }
   ],
   "source": [
    "run('knapsack_30_1',multi_row=False)"
   ]
  },
  {
   "cell_type": "code",
   "execution_count": 4,
   "metadata": {},
   "outputs": [
    {
     "name": "stderr",
     "output_type": "stream",
     "text": [
      "knapsack_50_1: 100%|██████████| 121/121 [1:23:32<00:00, 41.43s/it, GMI Average Treesize=2410.03, Best 1 row CGF Treesize=183.83]\n"
     ]
    },
    {
     "name": "stdout",
     "output_type": "stream",
     "text": [
      "Training Completed\n",
      "Testing Started\n"
     ]
    },
    {
     "name": "stderr",
     "output_type": "stream",
     "text": [
      "100%|██████████| 100/100 [00:54<00:00,  1.85it/s]"
     ]
    },
    {
     "name": "stdout",
     "output_type": "stream",
     "text": [
      "{'test_gmi': 3543.91, 'test_cgf1': 277.01}\n"
     ]
    },
    {
     "name": "stderr",
     "output_type": "stream",
     "text": [
      "\n"
     ]
    }
   ],
   "source": [
    "run('knapsack_50_1',multi_row=False)"
   ]
  },
  {
   "cell_type": "code",
   "execution_count": 5,
   "metadata": {},
   "outputs": [
    {
     "name": "stderr",
     "output_type": "stream",
     "text": [
      "knapsack_16_2: 100%|██████████| 121/121 [39:32<00:00, 19.61s/it, GMI Average Treesize=422.59, Best 1 row CGF Treesize=241.99, Best 2 rows CGF Treesize=144.58, Best 5 rows CGF Treesize=180.42, Best 10 rows CGF Treesize=174.97]\n"
     ]
    },
    {
     "name": "stdout",
     "output_type": "stream",
     "text": [
      "Training Completed\n",
      "Testing Started\n"
     ]
    },
    {
     "name": "stderr",
     "output_type": "stream",
     "text": [
      "100%|██████████| 100/100 [00:24<00:00,  4.11it/s]"
     ]
    },
    {
     "name": "stdout",
     "output_type": "stream",
     "text": [
      "{'test_gmi': 399.86, 'test_cgf1': 316.8, 'test_cgf2': 178.68, 'test_cgf5': 234.09, 'test_cgf10': 203.66}\n"
     ]
    },
    {
     "name": "stderr",
     "output_type": "stream",
     "text": [
      "\n"
     ]
    }
   ],
   "source": [
    "run('knapsack_16_2')"
   ]
  },
  {
   "cell_type": "code",
   "execution_count": 6,
   "metadata": {},
   "outputs": [
    {
     "name": "stderr",
     "output_type": "stream",
     "text": [
      "knapsack_30_3: 100%|██████████| 121/121 [3:00:46<00:00, 89.64s/it, GMI Average Treesize=5194.84, Best 1 row CGF Treesize=4252.71, Best 2 rows CGF Treesize=3262.31, Best 5 rows CGF Treesize=2486.99, Best 10 rows CGF Treesize=2511.00]  \n"
     ]
    },
    {
     "name": "stdout",
     "output_type": "stream",
     "text": [
      "Training Completed\n",
      "Testing Started\n"
     ]
    },
    {
     "name": "stderr",
     "output_type": "stream",
     "text": [
      "100%|██████████| 100/100 [01:11<00:00,  1.39it/s]"
     ]
    },
    {
     "name": "stdout",
     "output_type": "stream",
     "text": [
      "{'test_gmi': 4963.91, 'test_cgf1': 4311.04, 'test_cgf2': 3430.37, 'test_cgf5': 2817.55, 'test_cgf10': 2822.37}\n"
     ]
    },
    {
     "name": "stderr",
     "output_type": "stream",
     "text": [
      "\n"
     ]
    }
   ],
   "source": [
    "run('knapsack_30_3')"
   ]
  },
  {
   "cell_type": "code",
   "execution_count": 7,
   "metadata": {},
   "outputs": [
    {
     "name": "stderr",
     "output_type": "stream",
     "text": [
      "packing_15_30: 100%|██████████| 121/121 [36:58<00:00, 18.34s/it, GMI Average Treesize=466.61, Best 1 row CGF Treesize=435.21, Best 2 rows CGF Treesize=401.22, Best 5 rows CGF Treesize=405.56, Best 10 rows CGF Treesize=419.43]\n"
     ]
    },
    {
     "name": "stdout",
     "output_type": "stream",
     "text": [
      "Training Completed\n",
      "Testing Started\n"
     ]
    },
    {
     "name": "stderr",
     "output_type": "stream",
     "text": [
      "100%|██████████| 100/100 [00:22<00:00,  4.49it/s]"
     ]
    },
    {
     "name": "stdout",
     "output_type": "stream",
     "text": [
      "{'test_gmi': 389.67, 'test_cgf1': 367.48, 'test_cgf2': 376.86, 'test_cgf5': 401.87, 'test_cgf10': 391.44}\n"
     ]
    },
    {
     "name": "stderr",
     "output_type": "stream",
     "text": [
      "\n"
     ]
    }
   ],
   "source": [
    "run('packing_15_30')"
   ]
  },
  {
   "cell_type": "code",
   "execution_count": 8,
   "metadata": {},
   "outputs": [
    {
     "name": "stderr",
     "output_type": "stream",
     "text": [
      "packing_20_40: 100%|██████████| 121/121 [58:12<00:00, 28.87s/it, GMI Average Treesize=1187.87, Best 1 row CGF Treesize=1100.41, Best 2 rows CGF Treesize=1133.78, Best 5 rows CGF Treesize=1108.68, Best 10 rows CGF Treesize=1142.55]\n"
     ]
    },
    {
     "name": "stdout",
     "output_type": "stream",
     "text": [
      "Training Completed\n",
      "Testing Started\n"
     ]
    },
    {
     "name": "stderr",
     "output_type": "stream",
     "text": [
      "100%|██████████| 100/100 [00:24<00:00,  4.01it/s]"
     ]
    },
    {
     "name": "stdout",
     "output_type": "stream",
     "text": [
      "{'test_gmi': 1200.55, 'test_cgf1': 1123.9, 'test_cgf2': 1214.92, 'test_cgf5': 1113.82, 'test_cgf10': 1185.26}\n"
     ]
    },
    {
     "name": "stderr",
     "output_type": "stream",
     "text": [
      "\n"
     ]
    }
   ],
   "source": [
    "run('packing_20_40')"
   ]
  },
  {
   "cell_type": "markdown",
   "metadata": {},
   "source": [
    "## Best 1-row cut"
   ]
  },
  {
   "cell_type": "code",
   "execution_count": 18,
   "metadata": {},
   "outputs": [
    {
     "data": {
      "text/plain": [
       "35.54"
      ]
     },
     "execution_count": 18,
     "metadata": {},
     "output_type": "execute_result"
    }
   ],
   "source": [
    "knapsack_20_1 = np.load('data/knapsack_20_1/training_data_dict.npy',allow_pickle=True).item()['result_cgf1']\n",
    "knapsack_20_1.min(axis=0).mean()"
   ]
  },
  {
   "cell_type": "code",
   "execution_count": 19,
   "metadata": {},
   "outputs": [
    {
     "data": {
      "text/plain": [
       "23.98"
      ]
     },
     "execution_count": 19,
     "metadata": {},
     "output_type": "execute_result"
    }
   ],
   "source": [
    "knapsack_30_1 = np.load('data/knapsack_30_1/training_data_dict.npy',allow_pickle=True).item()['result_cgf1']\n",
    "knapsack_30_1.min(axis=0).mean()"
   ]
  },
  {
   "cell_type": "code",
   "execution_count": 20,
   "metadata": {},
   "outputs": [
    {
     "data": {
      "text/plain": [
       "125.85"
      ]
     },
     "execution_count": 20,
     "metadata": {},
     "output_type": "execute_result"
    }
   ],
   "source": [
    "knapsack_50_1 = np.load('data/knapsack_50_1/training_data_dict.npy',allow_pickle=True).item()['result_cgf1']\n",
    "knapsack_50_1.min(axis=0).mean()"
   ]
  },
  {
   "cell_type": "code",
   "execution_count": 21,
   "metadata": {},
   "outputs": [
    {
     "data": {
      "text/plain": [
       "102.07"
      ]
     },
     "execution_count": 21,
     "metadata": {},
     "output_type": "execute_result"
    }
   ],
   "source": [
    "knapsack_16_2 = np.load('data/knapsack_16_2/training_data_dict.npy',allow_pickle=True).item()['result_cgf1']\n",
    "knapsack_16_2.min(axis=0).mean()"
   ]
  },
  {
   "cell_type": "code",
   "execution_count": 22,
   "metadata": {},
   "outputs": [
    {
     "data": {
      "text/plain": [
       "3561.36"
      ]
     },
     "execution_count": 22,
     "metadata": {},
     "output_type": "execute_result"
    }
   ],
   "source": [
    "knapsack_30_3 = np.load('data/knapsack_30_3/training_data_dict.npy',allow_pickle=True).item()['result_cgf1']\n",
    "knapsack_30_3.min(axis=0).mean()"
   ]
  },
  {
   "cell_type": "code",
   "execution_count": 23,
   "metadata": {},
   "outputs": [
    {
     "data": {
      "text/plain": [
       "303.72"
      ]
     },
     "execution_count": 23,
     "metadata": {},
     "output_type": "execute_result"
    }
   ],
   "source": [
    "packing_15_30 = np.load('data/packing_15_30/training_data_dict.npy',allow_pickle=True).item()['result_cgf1']\n",
    "packing_15_30.min(axis=0).mean()"
   ]
  },
  {
   "cell_type": "code",
   "execution_count": 24,
   "metadata": {},
   "outputs": [
    {
     "data": {
      "text/plain": [
       "738.58"
      ]
     },
     "execution_count": 24,
     "metadata": {},
     "output_type": "execute_result"
    }
   ],
   "source": [
    "packing_20_40 = np.load('data/packing_20_40/training_data_dict.npy',allow_pickle=True).item()['result_cgf1']\n",
    "packing_20_40.min(axis=0).mean()"
   ]
  }
 ],
 "metadata": {
  "kernelspec": {
   "display_name": "DL",
   "language": "python",
   "name": "python3"
  },
  "language_info": {
   "codemirror_mode": {
    "name": "ipython",
    "version": 3
   },
   "file_extension": ".py",
   "mimetype": "text/x-python",
   "name": "python",
   "nbconvert_exporter": "python",
   "pygments_lexer": "ipython3",
   "version": "3.11.8"
  }
 },
 "nbformat": 4,
 "nbformat_minor": 2
}
